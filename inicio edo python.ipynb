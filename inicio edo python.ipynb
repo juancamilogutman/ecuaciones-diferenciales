{
 "cells": [
  {
   "cell_type": "markdown",
   "metadata": {},
   "source": [
    "https://www.youtube.com/watch?v=MM3cBamj1Ms\n",
    "\n",
    "minuto 9:22"
   ]
  },
  {
   "cell_type": "code",
   "execution_count": 4,
   "metadata": {},
   "outputs": [],
   "source": [
    "import numpy as np\n",
    "import matplotlib.pyplot as plt\n",
    "import scipy as sp\n",
    "from scipy.integrate import odeint\n",
    "from scipy.integrate import solve_ivp"
   ]
  },
  {
   "cell_type": "markdown",
   "metadata": {},
   "source": [
    "Solve differential equation. There are two main solvers in scipy\n",
    "\n",
    "* `odeint`: Pretty classic, uses a particular solve called lsoda from the FORTRAN library odepack\n",
    "* `solve_ivp`: More customizable, can choose from a list of possible solvers"
   ]
  },
  {
   "cell_type": "code",
   "execution_count": null,
   "metadata": {},
   "outputs": [],
   "source": [
    "# Acá va a arrancar el código..."
   ]
  },
  {
   "cell_type": "markdown",
   "metadata": {},
   "source": [
    "## Referencias\n",
    "\n",
    "1. Sundnes, Joakim (2024). *Solving Ordinary Differential Equations in Python*. Simula SpringerBriefs on Computing, Oslo.\n",
    "2. García Fronti, Verónica y Dotta, Milena (2022). *Notas de clase: Ecuaciones diferenciales ordinarias y su resolución con Python*. Revista de Investigación en Modelos Matemáticos Aplicados a la Gestión y la Economía - Año 8 Volumen II (2021-II).\n",
    "2. How to Solve Differential Equations in PYTHON: https://www.youtube.com/watch?v=MM3cBamj1Ms&t=565s\n",
    "\n"
   ]
  }
 ],
 "metadata": {
  "kernelspec": {
   "display_name": "dhdsblend2021",
   "language": "python",
   "name": "python3"
  },
  "language_info": {
   "codemirror_mode": {
    "name": "ipython",
    "version": 3
   },
   "file_extension": ".py",
   "mimetype": "text/x-python",
   "name": "python",
   "nbconvert_exporter": "python",
   "pygments_lexer": "ipython3",
   "version": "3.8.18"
  }
 },
 "nbformat": 4,
 "nbformat_minor": 2
}
