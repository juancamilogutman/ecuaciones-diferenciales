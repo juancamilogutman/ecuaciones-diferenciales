{
 "cells": [
  {
   "cell_type": "code",
   "execution_count": 2,
   "metadata": {},
   "outputs": [],
   "source": [
    "import numpy as np\n",
    "import matplotlib.pyplot as plt\n",
    "import scipy as sp\n",
    "from scipy.integrate import odeint\n",
    "from scipy.integrate import solve_ivp\n",
    "from IPython.display import display, Math"
   ]
  },
  {
   "cell_type": "markdown",
   "metadata": {},
   "source": [
    "# ¿Qué es una ecuación diferencial?\n",
    "\n",
    "Esta definición hay que mejorarla, pero se trata de una ecuación cuya incógnita es una función y cuyas variables involucran las derivadas de dicha función.\n",
    "\n",
    "Dice Grant Sanderson, creador de 3Blue1Brown, que las ecuaciones diferenciales suelen utilizarse cuando describir la evolución de un sistema dinámico que establecer una relación funcional entre sus variables y su valor absoluto.\n",
    "\n",
    "De esta forma, se establece una ecuación que gobierna la relación una función y sus formas de crecimiento. Estas leyes de movimiento...\n",
    "\n",
    "Ahora, no siempre una ecuación establece una función. Las funciones son cierto tipo específico de relación entre conjuntos...\n",
    "\n",
    "En este notebook la idea es explorar métodos de resolución y de análisis cualitativo de ecuaciones diferenciales ordinarias (EDO), esto es, de ecuaciones definidas en términos de derivadas, sin derivadas parciales."
   ]
  },
  {
   "cell_type": "markdown",
   "metadata": {},
   "source": [
    "Para resolver ecuaciones diferenciales hay dos silucionadores principales de Scipy (Mr. P Solver, 2021):\n",
    "\n",
    "* `odeint`: Pretty classic, uses a particular solve called lsoda from the FORTRAN library odepack\n",
    "* `solve_ivp`: More customizable, can choose from a list of possible solvers"
   ]
  },
  {
   "cell_type": "markdown",
   "metadata": {},
   "source": [
    "3 formas de mostrar ecuaciones en un notebook, a partir de $\\LaTeX$:"
   ]
  },
  {
   "cell_type": "code",
   "execution_count": 5,
   "metadata": {},
   "outputs": [
    {
     "data": {
      "text/latex": [
       "$\\displaystyle \\frac{{dx}}{{dt}} = f(t,x(t))$"
      ],
      "text/plain": [
       "<IPython.core.display.Math object>"
      ]
     },
     "metadata": {},
     "output_type": "display_data"
    }
   ],
   "source": [
    "equation = r'\\frac{{dx}}{{dt}} = f(t,x(t))'\n",
    "display(Math(equation))"
   ]
  },
  {
   "cell_type": "markdown",
   "metadata": {},
   "source": [
    "Ecuación en línea con el texto: $\\frac{{dx}}{{dt}} = f(t,x(t))$"
   ]
  },
  {
   "cell_type": "markdown",
   "metadata": {},
   "source": [
    "Ecuación aislada:\n",
    "$$\n",
    "\\frac{{dx}{{dt}} = f(t,x(t))\n",
    "$$\n"
   ]
  },
  {
   "cell_type": "markdown",
   "metadata": {},
   "source": [
    "Ejemplos de Sundnes (2024):\n",
    "\n",
    "    Crecimiento exponencial:\n",
    "$$\n",
    "f(t,x(t)) = \\alpha x\n",
    "$$\n",
    "    Crecimiento logístico:\n",
    "$$\n",
    "f(t,x(t)) = \\alpha x (1-\\frac{x}{R})\n",
    "$$\n",
    "\n",
    "Es decir, que si la ecuación que soluciona la ecuación diferencial en cuestión es una de estas, entonces el crecimiento que describe es el correspondiente.\n"
   ]
  },
  {
   "cell_type": "markdown",
   "metadata": {},
   "source": [
    "Todos los problemas de EDO trabajados en Sundnes (2024) son **Problemas de Valor Inicial (PVI)** -caso particular de los **Problemas de Cauchy**. Consisten en agregar a la ecuación diferencial en abstracto una condición inicial concreta de la función incógnita, esto es, un valor de la función desconocida (que, lógicamente, debe formar parte del dominio de definición de la solución). \n",
    "\n",
    "Entonces, el problema matemático resultante puede ser expresado de la siguiente manera:\n",
    "\n",
    "$$\n",
    "\\frac{{dx}}{{dt}} = f(t,x(t))\n",
    "$$\n",
    "\n",
    "$$\n",
    "x(t_0) = x_0\n",
    "$$"
   ]
  },
  {
   "cell_type": "markdown",
   "metadata": {},
   "source": [
    "Lo importante de añadir un dato inicial a la ecuación diferencial es que la ecuación pasa a tener una solución única. De otro modo, las ecuaciones diferenciales suelen ser resolubles por toda una familia de soluciones, compuesta por cierta función y todos sus múltiplos."
   ]
  },
  {
   "cell_type": "markdown",
   "metadata": {},
   "source": [
    "Para ilustrar este tipo de problemas y el primero de los solucionadores que vamos a proponer, \n",
    "vamos a trabajar con la siguiente EDO:\n",
    "\n",
    "$$\n",
    "\\frac{{dx}}{{dt}} = x\n",
    "$$"
   ]
  },
  {
   "cell_type": "markdown",
   "metadata": {},
   "source": [
    "# El método de Euler\n",
    "Puede pensarse en la ecuación diferencial como una fórmula que nos permite calcular la pendiente de la recta tangente a la curva en cualquier punto, una vez que el punto ha sido calculado. Dado que se conoce el punto de inicio de la curva podemos calcular la pendiente de la recta tangente a la curva en dicho punto inicial. Dando \"pequeños pasos\" a partir de esta información podremos aproximar la curva que nos interesa. En tanto el intervalo en el que trabajemos sea finito y los pasos que se den sean pequeños el error o la divergencia no debería ser muy grande.\n",
    "\n",
    "Este método es una aproximación a la ecuación diferencial mediante diferencias finitas y es el más simple de los métodos numéricos para la resolución de ecuaciones diferenciales (Sundnes, 2024). \n",
    "\n",
    "Este método se basa en que aunque no conocemos la función incógnita, dado que sí conocemos su derivada primera (en el caso de las EDO), podemos realizar una aproximación de la verdadera función por medio de sucesivos movimientos sobre las rectas tangentes descritas por las derivadas en cada punto, todo esto desde cierto punto inicial. La iteración de estos pasos, solo conociendo la función en cierto punto inicial (más bien postulándolo) y su derivada en cada punto, constituye entonces un sucedáneo decente de la evaluación de la función incógnita en el recorrido de interés.\n",
    "\n",
    "Este método es consistente, lo que dicho mal y pronto es que si los pasos son lo suficientemente chicos entonces tiende a ser una buena aproximación. Y vale agregar que es intuitivo."
   ]
  },
  {
   "cell_type": "markdown",
   "metadata": {},
   "source": [
    "seguir desde p.2"
   ]
  },
  {
   "cell_type": "markdown",
   "metadata": {},
   "source": [
    "Para seguir desarrollando: la ecuación diferencial es una herramienta para describir sistemas que muchas veces no se pueden representar en términos analíticos de forma directa. Además ponen el foco en el aspecto dinámico. Se expresa (en una EDO) la derivada primera de una función en relación al estado del sistema en cierto momento del tiempo (asumiendo que la variable independiente es el tiempo)."
   ]
  },
  {
   "cell_type": "markdown",
   "metadata": {},
   "source": [
    "## Referencias\n",
    "\n",
    "1. Sundnes, Joakim (2024). *Solving Ordinary Differential Equations in Python*. Simula SpringerBriefs on Computing, Oslo.\n",
    "2. Sanderson, Grant (2019). *Differential equations, a tourist's guide | DE1*. Link: https://www.youtube.com/watch?v=p_di4Zn4wz4\n",
    "3. García Fronti, Verónica y Dotta, Milena (2022). *Notas de clase: Ecuaciones diferenciales ordinarias y su resolución con Python*. Revista de Investigación en Modelos Matemáticos Aplicados a la Gestión y la Economía - Año 8 Volumen II (2021-II).\n",
    "4. Mr. P Solver (2021). *How to Solve Differential Equations in PYTHON*. Link: https://www.youtube.com/watch?v=MM3cBamj1Ms&t=565s"
   ]
  }
 ],
 "metadata": {
  "kernelspec": {
   "display_name": "dhdsblend2021",
   "language": "python",
   "name": "python3"
  },
  "language_info": {
   "codemirror_mode": {
    "name": "ipython",
    "version": 3
   },
   "file_extension": ".py",
   "mimetype": "text/x-python",
   "name": "python",
   "nbconvert_exporter": "python",
   "pygments_lexer": "ipython3",
   "version": "3.8.18"
  }
 },
 "nbformat": 4,
 "nbformat_minor": 2
}
